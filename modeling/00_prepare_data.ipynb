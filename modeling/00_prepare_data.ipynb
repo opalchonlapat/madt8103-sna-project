{
 "cells": [
  {
   "cell_type": "markdown",
   "id": "74418b1e-3549-4084-9701-702102248506",
   "metadata": {},
   "source": [
    "# Data Preparation\n",
    "---"
   ]
  },
  {
   "cell_type": "code",
   "execution_count": 1,
   "id": "20baa5e8-c5f8-45a9-85d5-10e2c691dcf9",
   "metadata": {},
   "outputs": [],
   "source": [
    "import pandas as pd\n",
    "\n",
    "pd.set_option('display.max_rows', 10)"
   ]
  },
  {
   "cell_type": "code",
   "execution_count": 2,
   "id": "2983b1eb-69fa-4b30-a458-3517cc23275d",
   "metadata": {},
   "outputs": [],
   "source": [
    "page2page_df = pd.read_csv('../data/input/page-to-page_edges.csv')\n",
    "user2page_df = pd.read_csv('../data/input/randomized_nodes_filtered - Nodes Data.csv')"
   ]
  },
  {
   "cell_type": "code",
   "execution_count": 3,
   "id": "8d5f15c3-f781-48b8-a6f6-8256ee817664",
   "metadata": {},
   "outputs": [
    {
     "name": "stdout",
     "output_type": "stream",
     "text": [
      "<class 'pandas.core.frame.DataFrame'>\n",
      "RangeIndex: 292 entries, 0 to 291\n",
      "Data columns (total 3 columns):\n",
      " #   Column      Non-Null Count  Dtype \n",
      "---  ------      --------------  ----- \n",
      " 0   Start node  292 non-null    object\n",
      " 1   End node    292 non-null    object\n",
      " 2   Type        292 non-null    object\n",
      "dtypes: object(3)\n",
      "memory usage: 7.0+ KB\n"
     ]
    },
    {
     "data": {
      "text/html": [
       "<div>\n",
       "<style scoped>\n",
       "    .dataframe tbody tr th:only-of-type {\n",
       "        vertical-align: middle;\n",
       "    }\n",
       "\n",
       "    .dataframe tbody tr th {\n",
       "        vertical-align: top;\n",
       "    }\n",
       "\n",
       "    .dataframe thead th {\n",
       "        text-align: right;\n",
       "    }\n",
       "</style>\n",
       "<table border=\"1\" class=\"dataframe\">\n",
       "  <thead>\n",
       "    <tr style=\"text-align: right;\">\n",
       "      <th></th>\n",
       "      <th>Start node</th>\n",
       "      <th>End node</th>\n",
       "      <th>Type</th>\n",
       "    </tr>\n",
       "  </thead>\n",
       "  <tbody>\n",
       "    <tr>\n",
       "      <th>0</th>\n",
       "      <td>TripTH ทริปไทยแลนด์</td>\n",
       "      <td>Gluta Story</td>\n",
       "      <td>page-page</td>\n",
       "    </tr>\n",
       "    <tr>\n",
       "      <th>1</th>\n",
       "      <td>TripTH ทริปไทยแลนด์</td>\n",
       "      <td>บันทึกคนขี้เที่ยว</td>\n",
       "      <td>page-page</td>\n",
       "    </tr>\n",
       "    <tr>\n",
       "      <th>2</th>\n",
       "      <td>TripTH ทริปไทยแลนด์</td>\n",
       "      <td>จ ะ เ ที่ ย ว ไ ป ไ ห น</td>\n",
       "      <td>page-page</td>\n",
       "    </tr>\n",
       "    <tr>\n",
       "      <th>3</th>\n",
       "      <td>TripTH ทริปไทยแลนด์</td>\n",
       "      <td>อาสาพาไปหลง</td>\n",
       "      <td>page-page</td>\n",
       "    </tr>\n",
       "    <tr>\n",
       "      <th>4</th>\n",
       "      <td>TripTH ทริปไทยแลนด์</td>\n",
       "      <td>Pigkaploy</td>\n",
       "      <td>page-page</td>\n",
       "    </tr>\n",
       "  </tbody>\n",
       "</table>\n",
       "</div>"
      ],
      "text/plain": [
       "            Start node                 End node       Type\n",
       "0  TripTH ทริปไทยแลนด์              Gluta Story  page-page\n",
       "1  TripTH ทริปไทยแลนด์        บันทึกคนขี้เที่ยว  page-page\n",
       "2  TripTH ทริปไทยแลนด์  จ ะ เ ที่ ย ว ไ ป ไ ห น  page-page\n",
       "3  TripTH ทริปไทยแลนด์              อาสาพาไปหลง  page-page\n",
       "4  TripTH ทริปไทยแลนด์                Pigkaploy  page-page"
      ]
     },
     "execution_count": 3,
     "metadata": {},
     "output_type": "execute_result"
    }
   ],
   "source": [
    "page2page_df.info()\n",
    "page2page_df.head()"
   ]
  },
  {
   "cell_type": "code",
   "execution_count": 4,
   "id": "e37cd9cd-6502-4f04-94c1-f587d139ff29",
   "metadata": {},
   "outputs": [
    {
     "name": "stdout",
     "output_type": "stream",
     "text": [
      "<class 'pandas.core.frame.DataFrame'>\n",
      "RangeIndex: 6956 entries, 0 to 6955\n",
      "Data columns (total 2 columns):\n",
      " #   Column  Non-Null Count  Dtype \n",
      "---  ------  --------------  ----- \n",
      " 0   Page    6956 non-null   object\n",
      " 1   User    6956 non-null   object\n",
      "dtypes: object(2)\n",
      "memory usage: 108.8+ KB\n"
     ]
    },
    {
     "data": {
      "text/html": [
       "<div>\n",
       "<style scoped>\n",
       "    .dataframe tbody tr th:only-of-type {\n",
       "        vertical-align: middle;\n",
       "    }\n",
       "\n",
       "    .dataframe tbody tr th {\n",
       "        vertical-align: top;\n",
       "    }\n",
       "\n",
       "    .dataframe thead th {\n",
       "        text-align: right;\n",
       "    }\n",
       "</style>\n",
       "<table border=\"1\" class=\"dataframe\">\n",
       "  <thead>\n",
       "    <tr style=\"text-align: right;\">\n",
       "      <th></th>\n",
       "      <th>Page</th>\n",
       "      <th>User</th>\n",
       "    </tr>\n",
       "  </thead>\n",
       "  <tbody>\n",
       "    <tr>\n",
       "      <th>0</th>\n",
       "      <td>Bliss Out There</td>\n",
       "      <td>node00001</td>\n",
       "    </tr>\n",
       "    <tr>\n",
       "      <th>1</th>\n",
       "      <td>I Roam Alone</td>\n",
       "      <td>node00001</td>\n",
       "    </tr>\n",
       "    <tr>\n",
       "      <th>2</th>\n",
       "      <td>ReReef</td>\n",
       "      <td>node00001</td>\n",
       "    </tr>\n",
       "    <tr>\n",
       "      <th>3</th>\n",
       "      <td>Unseen Tour Thailand</td>\n",
       "      <td>node00001</td>\n",
       "    </tr>\n",
       "    <tr>\n",
       "      <th>4</th>\n",
       "      <td>เที่ยววนไป</td>\n",
       "      <td>node00001</td>\n",
       "    </tr>\n",
       "  </tbody>\n",
       "</table>\n",
       "</div>"
      ],
      "text/plain": [
       "                   Page       User\n",
       "0       Bliss Out There  node00001\n",
       "1          I Roam Alone  node00001\n",
       "2                ReReef  node00001\n",
       "3  Unseen Tour Thailand  node00001\n",
       "4            เที่ยววนไป  node00001"
      ]
     },
     "execution_count": 4,
     "metadata": {},
     "output_type": "execute_result"
    }
   ],
   "source": [
    "user2page_df.info()\n",
    "user2page_df.head()"
   ]
  },
  {
   "cell_type": "code",
   "execution_count": 5,
   "id": "d2570701-1669-4648-9bf3-42c9691a0224",
   "metadata": {},
   "outputs": [
    {
     "data": {
      "text/plain": [
       "2210"
      ]
     },
     "execution_count": 5,
     "metadata": {},
     "output_type": "execute_result"
    }
   ],
   "source": [
    "user2page_df['User'].nunique()"
   ]
  },
  {
   "cell_type": "code",
   "execution_count": 6,
   "id": "ada12696-c90b-4cd9-92fa-d1930bf29d31",
   "metadata": {},
   "outputs": [],
   "source": [
    "col_names = ['start_node', 'end_node', 'edge_type']\n",
    "page2page_df.columns = col_names"
   ]
  },
  {
   "cell_type": "code",
   "execution_count": 7,
   "id": "1f1bb787-8728-421a-9b02-49a88ab1ad57",
   "metadata": {},
   "outputs": [],
   "source": [
    "user2page_df['edge_type'] = 'user-page'\n",
    "user2page_df.columns = ['end_node', 'start_node', 'edge_type']"
   ]
  },
  {
   "cell_type": "code",
   "execution_count": 8,
   "id": "177ee706-0ec2-4897-92e5-b6ea2a476b36",
   "metadata": {},
   "outputs": [
    {
     "data": {
      "text/html": [
       "<div>\n",
       "<style scoped>\n",
       "    .dataframe tbody tr th:only-of-type {\n",
       "        vertical-align: middle;\n",
       "    }\n",
       "\n",
       "    .dataframe tbody tr th {\n",
       "        vertical-align: top;\n",
       "    }\n",
       "\n",
       "    .dataframe thead th {\n",
       "        text-align: right;\n",
       "    }\n",
       "</style>\n",
       "<table border=\"1\" class=\"dataframe\">\n",
       "  <thead>\n",
       "    <tr style=\"text-align: right;\">\n",
       "      <th></th>\n",
       "      <th>start_node</th>\n",
       "      <th>end_node</th>\n",
       "      <th>edge_type</th>\n",
       "    </tr>\n",
       "  </thead>\n",
       "  <tbody>\n",
       "    <tr>\n",
       "      <th>0</th>\n",
       "      <td>TripTH ทริปไทยแลนด์</td>\n",
       "      <td>Gluta Story</td>\n",
       "      <td>page-page</td>\n",
       "    </tr>\n",
       "    <tr>\n",
       "      <th>1</th>\n",
       "      <td>TripTH ทริปไทยแลนด์</td>\n",
       "      <td>บันทึกคนขี้เที่ยว</td>\n",
       "      <td>page-page</td>\n",
       "    </tr>\n",
       "    <tr>\n",
       "      <th>2</th>\n",
       "      <td>TripTH ทริปไทยแลนด์</td>\n",
       "      <td>จ ะ เ ที่ ย ว ไ ป ไ ห น</td>\n",
       "      <td>page-page</td>\n",
       "    </tr>\n",
       "    <tr>\n",
       "      <th>3</th>\n",
       "      <td>TripTH ทริปไทยแลนด์</td>\n",
       "      <td>อาสาพาไปหลง</td>\n",
       "      <td>page-page</td>\n",
       "    </tr>\n",
       "    <tr>\n",
       "      <th>4</th>\n",
       "      <td>TripTH ทริปไทยแลนด์</td>\n",
       "      <td>Pigkaploy</td>\n",
       "      <td>page-page</td>\n",
       "    </tr>\n",
       "    <tr>\n",
       "      <th>...</th>\n",
       "      <td>...</td>\n",
       "      <td>...</td>\n",
       "      <td>...</td>\n",
       "    </tr>\n",
       "    <tr>\n",
       "      <th>6951</th>\n",
       "      <td>Non Nuttawat</td>\n",
       "      <td>Sneak out หนีเที่ยว</td>\n",
       "      <td>user-page</td>\n",
       "    </tr>\n",
       "    <tr>\n",
       "      <th>6952</th>\n",
       "      <td>Praew Phattharaphorn</td>\n",
       "      <td>Sneak out หนีเที่ยว</td>\n",
       "      <td>user-page</td>\n",
       "    </tr>\n",
       "    <tr>\n",
       "      <th>6953</th>\n",
       "      <td>Thiprada Thipda</td>\n",
       "      <td>Sneak out หนีเที่ยว</td>\n",
       "      <td>user-page</td>\n",
       "    </tr>\n",
       "    <tr>\n",
       "      <th>6954</th>\n",
       "      <td>Bobby Panturat</td>\n",
       "      <td>Sneak out หนีเที่ยว</td>\n",
       "      <td>user-page</td>\n",
       "    </tr>\n",
       "    <tr>\n",
       "      <th>6955</th>\n",
       "      <td>Roc Jet</td>\n",
       "      <td>Sneak out หนีเที่ยว</td>\n",
       "      <td>user-page</td>\n",
       "    </tr>\n",
       "  </tbody>\n",
       "</table>\n",
       "<p>7248 rows × 3 columns</p>\n",
       "</div>"
      ],
      "text/plain": [
       "                start_node                 end_node  edge_type\n",
       "0      TripTH ทริปไทยแลนด์              Gluta Story  page-page\n",
       "1      TripTH ทริปไทยแลนด์        บันทึกคนขี้เที่ยว  page-page\n",
       "2      TripTH ทริปไทยแลนด์  จ ะ เ ที่ ย ว ไ ป ไ ห น  page-page\n",
       "3      TripTH ทริปไทยแลนด์              อาสาพาไปหลง  page-page\n",
       "4      TripTH ทริปไทยแลนด์                Pigkaploy  page-page\n",
       "...                    ...                      ...        ...\n",
       "6951          Non Nuttawat      Sneak out หนีเที่ยว  user-page\n",
       "6952  Praew Phattharaphorn      Sneak out หนีเที่ยว  user-page\n",
       "6953       Thiprada Thipda      Sneak out หนีเที่ยว  user-page\n",
       "6954        Bobby Panturat      Sneak out หนีเที่ยว  user-page\n",
       "6955               Roc Jet      Sneak out หนีเที่ยว  user-page\n",
       "\n",
       "[7248 rows x 3 columns]"
      ]
     },
     "execution_count": 8,
     "metadata": {},
     "output_type": "execute_result"
    }
   ],
   "source": [
    "edges_df = pd.concat([page2page_df, user2page_df], axis=0)\n",
    "edges_df"
   ]
  },
  {
   "cell_type": "code",
   "execution_count": 9,
   "id": "98412063-0bc2-4349-88bf-82d48b936c68",
   "metadata": {},
   "outputs": [
    {
     "name": "stdout",
     "output_type": "stream",
     "text": [
      "Number of edges after removing duplicates: 7239\n"
     ]
    }
   ],
   "source": [
    "edges_df = edges_df.drop_duplicates()\n",
    "print(f\"Number of edges after removing duplicates: {len(edges_df)}\")"
   ]
  },
  {
   "cell_type": "code",
   "execution_count": 10,
   "id": "cfb85f99-2ba0-4f48-9cd2-0309ccd8951e",
   "metadata": {},
   "outputs": [
    {
     "data": {
      "text/plain": [
       "edge_type\n",
       "user-page    6956\n",
       "page-page     283\n",
       "Name: count, dtype: int64"
      ]
     },
     "execution_count": 10,
     "metadata": {},
     "output_type": "execute_result"
    }
   ],
   "source": [
    "edges_df['edge_type'].value_counts()"
   ]
  },
  {
   "cell_type": "code",
   "execution_count": 11,
   "id": "2ffc73e2-6821-468f-9084-9e077e660c1d",
   "metadata": {},
   "outputs": [
    {
     "data": {
      "text/plain": [
       "end_node\n",
       "I Roam Alone                                                612\n",
       "TripTH ทริปไทยแลนด์                                         588\n",
       "Unseen Tour Thailand                                        404\n",
       "Sneak out หนีเที่ยว                                         350\n",
       "Go Went Go                                                  311\n",
       "                                                           ... \n",
       "Surron BKK                                                    1\n",
       "Sky View cafe AT จันทบุรี                                     1\n",
       "Rub Nam Khao สินค้าญี่ปุ่น เกาหลี เมกา By Warriorcamp168      1\n",
       "Rivers Drinkware Thailand                                     1\n",
       "Pichit89                                                      1\n",
       "Name: count, Length: 188, dtype: int64"
      ]
     },
     "execution_count": 11,
     "metadata": {},
     "output_type": "execute_result"
    }
   ],
   "source": [
    "edges_df['end_node'].value_counts()"
   ]
  },
  {
   "cell_type": "code",
   "execution_count": 12,
   "id": "2ee6e082-2039-49d2-8650-45ac15e0628b",
   "metadata": {},
   "outputs": [],
   "source": [
    "edges_df.to_csv('../data/checkpoint/edges_v3.csv', index=False)"
   ]
  },
  {
   "cell_type": "code",
   "execution_count": null,
   "id": "8cfabf83-6324-4a0b-9b74-087cbdbe7057",
   "metadata": {},
   "outputs": [],
   "source": []
  }
 ],
 "metadata": {
  "kernelspec": {
   "display_name": "Python 3 (ipykernel)",
   "language": "python",
   "name": "python3"
  },
  "language_info": {
   "codemirror_mode": {
    "name": "ipython",
    "version": 3
   },
   "file_extension": ".py",
   "mimetype": "text/x-python",
   "name": "python",
   "nbconvert_exporter": "python",
   "pygments_lexer": "ipython3",
   "version": "3.10.4"
  }
 },
 "nbformat": 4,
 "nbformat_minor": 5
}
